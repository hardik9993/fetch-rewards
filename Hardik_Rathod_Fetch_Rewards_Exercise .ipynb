{
 "cells": [
  {
   "cell_type": "code",
   "execution_count": 1,
   "metadata": {},
   "outputs": [],
   "source": [
    "import string\n",
    "\n",
    "# function to strip punctuation and stop words\n",
    "def sc(s):\n",
    "    #excluding punctuation\n",
    "    exclude = set(string.punctuation)\n",
    "    # excluding stopping words\n",
    "    exclude.update(['the','to', 'with','is','for','you','if','have','on','your','youll','of','or','and','are','that','it'])\n",
    "    s = ''.join(ch for ch in s if ch not in exclude)\n",
    "    s = ' '.join(ch for ch in s.split() if ch not in exclude)\n",
    "    return s"
   ]
  },
  {
   "cell_type": "code",
   "execution_count": 2,
   "metadata": {},
   "outputs": [
    {
     "name": "stdout",
     "output_type": "stream",
     "text": [
      "['easiest', 'way', 'earn', 'points', 'fetch', 'rewards', 'just', 'shop', 'products', 'already', 'love', 'any', 'participating', 'brands', 'receipt', 'get', 'points', 'based', 'cost', 'products', 'dont', 'need', 'clip', 'any', 'coupons', 'scan', 'individual', 'barcodes', 'just', 'scan', 'each', 'grocery', 'receipt', 'after', 'shop', 'well', 'find', 'savings']\n"
     ]
    }
   ],
   "source": [
    "# split and lowercase of the input document \n",
    "text1 = \"The easiest way to earn points with Fetch Rewards is to just shop for the products you already love. If you have any participating brands on your receipt, you'll get points based on the cost of the products. You don't need to clip any coupons or scan individual barcodes. Just scan each grocery receipt after you shop and we'll find the savings for you.\"\n",
    "textSplitted1 = sc(text1.lower()).split()\n",
    "\n",
    "print(textSplitted1)"
   ]
  },
  {
   "cell_type": "code",
   "execution_count": 3,
   "metadata": {},
   "outputs": [
    {
     "name": "stdout",
     "output_type": "stream",
     "text": [
      "['easiest', 'way', 'earn', 'points', 'fetch', 'rewards', 'just', 'shop', 'items', 'already', 'buy', 'any', 'eligible', 'brands', 'receipt', 'will', 'get', 'points', 'based', 'total', 'cost', 'products', 'do', 'not', 'need', 'cut', 'out', 'any', 'coupons', 'scan', 'individual', 'upcs', 'just', 'scan', 'receipt', 'after', 'check', 'out', 'we', 'will', 'find', 'savings']\n"
     ]
    }
   ],
   "source": [
    "# split and lowercase of the input document \n",
    "text2 = \"The easiest way to earn points with Fetch Rewards is to just shop for the items you already buy. If you have any eligible brands on your receipt, you will get points based on the total cost of the products. You do not need to cut out any coupons or scan individual UPCs. Just scan your receipt after you check out and we will find the savings for you.\"\n",
    "textSplitted2 = sc(text2.lower()).split()\n",
    "\n",
    "print(textSplitted2)"
   ]
  },
  {
   "cell_type": "code",
   "execution_count": 4,
   "metadata": {},
   "outputs": [
    {
     "name": "stdout",
     "output_type": "stream",
     "text": [
      "['we', 'always', 'looking', 'opportunities', 'earn', 'more', 'points', 'which', 'why', 'we', 'also', 'give', 'a', 'selection', 'special', 'offers', 'these', 'special', 'offers', 'opportunities', 'earn', 'bonus', 'points', 'top', 'regular', 'points', 'earn', 'every', 'time', 'purchase', 'a', 'participating', 'brand', 'no', 'need', 'preselect', 'these', 'offers', 'well', 'give', 'points', 'whether', 'not', 'knew', 'about', 'offer', 'we', 'just', 'think', 'easier', 'way']\n"
     ]
    }
   ],
   "source": [
    "# split and lowercase of the input document \n",
    "text3 =\"We are always looking for opportunities for you to earn more points, which is why we also give you a selection of Special Offers. These Special Offers are opportunities to earn bonus points on top of the regular points you earn every time you purchase a participating brand. No need to pre-select these offers, we'll give you the points whether or not you knew about the offer. We just think it is easier that way.\"\n",
    "textSplitted3 = sc(text3.lower()).split()\n",
    "\n",
    "print(textSplitted3)"
   ]
  },
  {
   "cell_type": "code",
   "execution_count": 5,
   "metadata": {},
   "outputs": [],
   "source": [
    "def calculate_jaccard(document1, document2):\n",
    "    # joining both document to find union.\n",
    "    sum_document = document1 + document2\n",
    "    union = set(sum_document)\n",
    "\n",
    "    # Calculating intersection.\n",
    "    intersection = set()\n",
    "    for w in document1:\n",
    "        if w in document2:\n",
    "            intersection.add(w)\n",
    "    # Finding the jaccard score\n",
    "    jaccard_score = len(intersection)/len(union)\n",
    "    return jaccard_score"
   ]
  },
  {
   "cell_type": "code",
   "execution_count": 6,
   "metadata": {},
   "outputs": [
    {
     "data": {
      "text/plain": [
       "0.5348837209302325"
      ]
     },
     "execution_count": 6,
     "metadata": {},
     "output_type": "execute_result"
    }
   ],
   "source": [
    "# calculating similiatiy between sample 1 and sample 2 \n",
    "calculate_jaccard(textSplitted1, textSplitted2)"
   ]
  },
  {
   "cell_type": "code",
   "execution_count": 7,
   "metadata": {},
   "outputs": [
    {
     "data": {
      "text/plain": [
       "0.11475409836065574"
      ]
     },
     "execution_count": 7,
     "metadata": {},
     "output_type": "execute_result"
    }
   ],
   "source": [
    "# calculating similiatiy between sample 1 and sample 3\n",
    "calculate_jaccard(textSplitted1, textSplitted3)"
   ]
  }
 ],
 "metadata": {
  "kernelspec": {
   "display_name": "Python 3",
   "language": "python",
   "name": "python3"
  },
  "language_info": {
   "codemirror_mode": {
    "name": "ipython",
    "version": 3
   },
   "file_extension": ".py",
   "mimetype": "text/x-python",
   "name": "python",
   "nbconvert_exporter": "python",
   "pygments_lexer": "ipython3",
   "version": "3.7.4"
  }
 },
 "nbformat": 4,
 "nbformat_minor": 4
}
